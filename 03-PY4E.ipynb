{
 "cells": [
  {
   "attachments": {},
   "cell_type": "markdown",
   "metadata": {},
   "source": [
    "# Python for Everybody\n",
    "## Chapter 3: Conditional Execution"
   ]
  },
  {
   "attachments": {},
   "cell_type": "markdown",
   "metadata": {},
   "source": [
    "### Exercise 1\n",
    "Rewrite your pay computation to give the employee 1.5 times the hourly rate for hours worked above 40 hours."
   ]
  },
  {
   "cell_type": "code",
   "execution_count": 3,
   "metadata": {},
   "outputs": [
    {
     "name": "stdout",
     "output_type": "stream",
     "text": [
      "Regular pay: 400\n",
      "Overtime pay: 150.0\n",
      "Total pay: 550.0\n"
     ]
    },
    {
     "data": {
      "text/plain": [
       "550.0"
      ]
     },
     "execution_count": 3,
     "metadata": {},
     "output_type": "execute_result"
    }
   ],
   "source": [
    "def ComputeGrossPay(hours, rate):\n",
    "    difference = max(0, hours - 40)\n",
    "    regular_pay = min(40, hours) * rate\n",
    "    print(\"Regular pay:\", regular_pay)\n",
    "    overtime_rate = 1.5 * rate\n",
    "    overtime_pay = difference * overtime_rate\n",
    "    print(\"Overtime pay:\", overtime_pay)\n",
    "    total_pay = regular_pay + overtime_pay\n",
    "    print(\"Total pay:\", total_pay)\n",
    "    return total_pay\n",
    "\n",
    "ComputeGrossPay(50,10)"
   ]
  },
  {
   "attachments": {},
   "cell_type": "markdown",
   "metadata": {},
   "source": [
    "### Exercise 2\n",
    "Rewrite your pay program using try and except so that your\n",
    "program handles non-numeric input gracefully by printing a message\n",
    "and exiting the program. The following shows two executions of the\n",
    "program:\n",
    "\n",
    "- Enter Hours: 20\n",
    "- Enter Rate: nine\n",
    "\n",
    "Error, please enter numeric input\n",
    "\n",
    "- Enter Hours: forty\n",
    "\n",
    "Error, please enter numeric input\n"
   ]
  },
  {
   "cell_type": "code",
   "execution_count": 6,
   "metadata": {},
   "outputs": [
    {
     "name": "stdout",
     "output_type": "stream",
     "text": [
      "Error, please enter numeric input\n"
     ]
    }
   ],
   "source": [
    "hours, rate = input(\"Enter Hours: \"), input(\"Enter Rate: \")\n",
    "\n",
    "try:\n",
    "    ComputeGrossPay(float(hours), float(rate))\n",
    "except:\n",
    "    print(\"Error, please enter numeric input\")"
   ]
  },
  {
   "attachments": {},
   "cell_type": "markdown",
   "metadata": {},
   "source": [
    "### Exercise 3\n",
    "Write a program to prompt for a score between 0.0 and\n",
    "1.0. If the score is out of range, print an error message. If the score is\n",
    "between 0.0 and 1.0, print the grade."
   ]
  },
  {
   "cell_type": "code",
   "execution_count": 11,
   "metadata": {},
   "outputs": [
    {
     "name": "stdout",
     "output_type": "stream",
     "text": [
      "A\n"
     ]
    }
   ],
   "source": [
    "def printGrade(score):\n",
    "    if score>= 0.9:\n",
    "        print(\"A\")\n",
    "    elif score >= 0.8:\n",
    "        print(\"B\")\n",
    "    elif score >= 0.7:\n",
    "        print(\"C\")\n",
    "    elif score >= 0.6:\n",
    "        print(\"D\")\n",
    "    else:\n",
    "        print(\"F\")\n",
    "\n",
    "def main():\n",
    "    try:\n",
    "        points = input(\"Enter your score: \")\n",
    "        score = float(points)\n",
    "        if (score> 1 or score < 0):\n",
    "            print(\"Bad Grade\")\n",
    "        else:\n",
    "            printGrade(score)\n",
    "    except:\n",
    "        print(\"Please enter numeric grade between 0.0 and 1.0!\")\n",
    "    \n",
    "main()\n",
    "    "
   ]
  },
  {
   "cell_type": "code",
   "execution_count": null,
   "metadata": {},
   "outputs": [],
   "source": []
  }
 ],
 "metadata": {
  "kernelspec": {
   "display_name": "base",
   "language": "python",
   "name": "python3"
  },
  "language_info": {
   "codemirror_mode": {
    "name": "ipython",
    "version": 3
   },
   "file_extension": ".py",
   "mimetype": "text/x-python",
   "name": "python",
   "nbconvert_exporter": "python",
   "pygments_lexer": "ipython3",
   "version": "3.9.13"
  },
  "orig_nbformat": 4,
  "vscode": {
   "interpreter": {
    "hash": "ad2bdc8ecc057115af97d19610ffacc2b4e99fae6737bb82f5d7fb13d2f2c186"
   }
  }
 },
 "nbformat": 4,
 "nbformat_minor": 2
}
