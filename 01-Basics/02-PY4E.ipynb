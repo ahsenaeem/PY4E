{
 "cells": [
  {
   "attachments": {},
   "cell_type": "markdown",
   "metadata": {},
   "source": [
    "# Python for Everybody\n",
    "## Chapter 2: Variables, Expressions and Statements"
   ]
  },
  {
   "attachments": {},
   "cell_type": "markdown",
   "metadata": {},
   "source": [
    "### Exercise 2\n",
    "Write a program that uses input to prompt a user for their name and then welcomes them."
   ]
  },
  {
   "cell_type": "code",
   "execution_count": 3,
   "metadata": {},
   "outputs": [
    {
     "name": "stdout",
     "output_type": "stream",
     "text": [
      "Hello Ahsen!\n"
     ]
    }
   ],
   "source": [
    "# Prompt message\n",
    "message = \"Enter your name:\"\n",
    "\n",
    "# Storing the name\n",
    "name = input(message)\n",
    "\n",
    "# Printing the greeting\n",
    "print(\"Hello\", name+\"!\")"
   ]
  },
  {
   "attachments": {},
   "cell_type": "markdown",
   "metadata": {},
   "source": [
    "### Exercise 3\n",
    "Write a program to prompt the user for hours and rate per hour to compute gross pay."
   ]
  },
  {
   "cell_type": "code",
   "execution_count": 10,
   "metadata": {},
   "outputs": [
    {
     "data": {
      "text/plain": [
       "500"
      ]
     },
     "execution_count": 10,
     "metadata": {},
     "output_type": "execute_result"
    }
   ],
   "source": [
    "def computepay(hours, rate):\n",
    "    total_pay = hours * rate\n",
    "    return total_pay\n",
    "\n",
    "computepay(50,10)"
   ]
  },
  {
   "attachments": {},
   "cell_type": "markdown",
   "metadata": {},
   "source": [
    "### Exercise 4\n",
    "Assume that we execute the following assignment statements:\n",
    "- width = 17,\n",
    "- height = 12.0,\n",
    "\n",
    "For each of the following expressions, write the value of the expression and the\n",
    "type (of the value of the expression).\n",
    "\n",
    "- width//2\n",
    "- width/2.0\n",
    "- height/3\n",
    "- 1 + 2 * 5"
   ]
  },
  {
   "cell_type": "code",
   "execution_count": 8,
   "metadata": {},
   "outputs": [
    {
     "name": "stdout",
     "output_type": "stream",
     "text": [
      "8\n",
      "8.5\n",
      "4.0\n",
      "11\n"
     ]
    }
   ],
   "source": [
    "width, height = 17, 12.0\n",
    "\n",
    "print(width//2)\n",
    "print(width/2.0)\n",
    "print(height/3)\n",
    "print(1+2*5)"
   ]
  },
  {
   "attachments": {},
   "cell_type": "markdown",
   "metadata": {},
   "source": [
    "### Exercise 5\n",
    "Write a program which prompts the user for a Celsius temperature, convert the temperature to Fahrenheit, and print out the converted temperature."
   ]
  },
  {
   "cell_type": "code",
   "execution_count": 9,
   "metadata": {},
   "outputs": [
    {
     "name": "stdout",
     "output_type": "stream",
     "text": [
      "The temperature is 32.0 degrees Fahrenheit\n"
     ]
    }
   ],
   "source": [
    "def C2F(celsius):\n",
    "    fahrenheit = (celsius*1.8)+32\n",
    "    return fahrenheit\n",
    "\n",
    "def main():\n",
    "    celsius = float(input(\"Please enter the temperature in Celsius: \"))\n",
    "    fahrenheit = C2F(celsius)\n",
    "    print(\"The temperature is\", fahrenheit, \"degrees Fahrenheit\")\n",
    "\n",
    "main()\n",
    "\n"
   ]
  }
 ],
 "metadata": {
  "kernelspec": {
   "display_name": "base",
   "language": "python",
   "name": "python3"
  },
  "language_info": {
   "codemirror_mode": {
    "name": "ipython",
    "version": 3
   },
   "file_extension": ".py",
   "mimetype": "text/x-python",
   "name": "python",
   "nbconvert_exporter": "python",
   "pygments_lexer": "ipython3",
   "version": "3.9.13 (main, Aug 25 2022, 23:26:10) \n[GCC 11.2.0]"
  },
  "orig_nbformat": 4,
  "vscode": {
   "interpreter": {
    "hash": "7c3e698de8b81c92c42fe193ca806ff7b3d07b8f405ddd1589c262b0c4f8db13"
   }
  }
 },
 "nbformat": 4,
 "nbformat_minor": 2
}
